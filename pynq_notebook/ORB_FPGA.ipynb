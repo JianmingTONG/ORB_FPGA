{
 "cells": [
  {
   "cell_type": "code",
   "execution_count": 1,
   "metadata": {},
   "outputs": [
    {
     "data": {
      "application/javascript": [
       "\n",
       "require(['notebook/js/codecell'], function(codecell) {\n",
       "  codecell.CodeCell.options_default.highlight_modes[\n",
       "      'magic_text/x-csrc'] = {'reg':[/^%%microblaze/]};\n",
       "  Jupyter.notebook.events.one('kernel_ready.Kernel', function(){\n",
       "      Jupyter.notebook.get_cells().map(function(cell){\n",
       "          if (cell.cell_type == 'code'){ cell.auto_highlight(); } }) ;\n",
       "  });\n",
       "});\n"
      ]
     },
     "metadata": {},
     "output_type": "display_data"
    }
   ],
   "source": [
    "from pynq import Overlay\n",
    "from pynq import Xlnk\n",
    "import matplotlib.pyplot as plt\n",
    "import numpy as np\n",
    "import cv2\n",
    "from time import time\n",
    "xlnk = Xlnk()\n",
    "overlay = Overlay('ORB_FPGA.bit')\n",
    "img_list = []\n",
    "for i in range (20):\n",
    "    img_gray = cv2.imread('../test_data/'+str(i)+'.jpg',cv2.IMREAD_GRAYSCALE)\n",
    "    src_buf = xlnk.cma_array(shape=(640*480,), dtype=np.uint8)\n",
    "    view=np.frombuffer(src_buf,dtype = np.uint8,count = -1)\n",
    "    np.copyto(view,img_gray.ravel(),casting='same_kind')\n",
    "    img_list.append(src_buf)\n",
    "des_buf = xlnk.cma_array(shape=(8192,10), dtype=np.int32)\n",
    "dma_FAST = overlay.axi_dma_FAST\n",
    "dma_Gaus = overlay.axi_dma_Gaus\n",
    "dma_des = overlay.axi_dma_des_2Mem\n",
    "dma_des.recvchannel.start()\n",
    "dma_FAST.sendchannel.start()\n",
    "dma_Gaus.sendchannel.start()"
   ]
  },
  {
   "cell_type": "code",
   "execution_count": 2,
   "metadata": {},
   "outputs": [
    {
     "name": "stdout",
     "output_type": "stream",
     "text": [
      "0.017445957660675047 秒\n",
      "57.3198685592423 FPS\n"
     ]
    }
   ],
   "source": [
    "start = time()\n",
    "for src_buf in img_list:\n",
    "    dma_des.recvchannel.transfer(des_buf)\n",
    "    dma_FAST.sendchannel.transfer(src_buf)\n",
    "    dma_Gaus.sendchannel.transfer(src_buf)\n",
    "    dma_Gaus.sendchannel.wait()\n",
    "    dma_FAST.sendchannel.wait()\n",
    "    dma_des.recvchannel.wait()\n",
    "    des_buf.flush()\n",
    "    #length = dma_des.mmio.read(0x58)\n",
    "    #print(length/40)\n",
    "stop = time()\n",
    "print(str((stop-start)/20) + \" 秒\")\n",
    "print(str(1/((stop-start)/20)) + \" FPS\")"
   ]
  },
  {
   "cell_type": "code",
   "execution_count": 7,
   "metadata": {},
   "outputs": [],
   "source": [
    "src_buf.freebuffer()\n",
    "des_buf.freebuffer()"
   ]
  },
  {
   "cell_type": "code",
   "execution_count": null,
   "metadata": {},
   "outputs": [],
   "source": []
  }
 ],
 "metadata": {
  "kernelspec": {
   "display_name": "Python 3",
   "language": "python",
   "name": "python3"
  },
  "language_info": {
   "codemirror_mode": {
    "name": "ipython",
    "version": 3
   },
   "file_extension": ".py",
   "mimetype": "text/x-python",
   "name": "python",
   "nbconvert_exporter": "python",
   "pygments_lexer": "ipython3",
   "version": "3.6.9"
  }
 },
 "nbformat": 4,
 "nbformat_minor": 2
}
